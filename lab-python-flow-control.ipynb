{
 "cells": [
  {
   "cell_type": "markdown",
   "id": "d3bfc191-8885-42ee-b0a0-bbab867c6f9f",
   "metadata": {
    "tags": []
   },
   "source": [
    "# Lab | Flow Control"
   ]
  },
  {
   "cell_type": "markdown",
   "id": "3851fcd1-cf98-4653-9c89-e003b7ec9400",
   "metadata": {},
   "source": [
    "## Exercise: Managing Customer Orders Optimized\n",
    "\n",
    "In the last lab, you were starting an online store that sells various products. To ensure smooth operations, you developed a program that manages customer orders and inventory.\n",
    "\n",
    "You did so without using flow control. Let's go a step further and improve this code.\n",
    "\n",
    "Follow the steps below to complete the exercise:\n",
    "\n",
    "1. Look at your code from the lab data structures, and improve repeated code with loops.\n",
    "\n",
    "2. Instead of asking the user to input the name of three products that a customer wants to order, do the following:\n",
    "    \n",
    "    a. Prompt the user to enter the name of a product that a customer wants to order.\n",
    "    \n",
    "    b. Add the product name to the \"customer_orders\" set.\n",
    "    \n",
    "    c. Ask the user if they want to add another product (yes/no).\n",
    "    \n",
    "    d. Continue the loop until the user does not want to add another product.\n",
    "\n",
    "3. Instead of updating the inventory by subtracting 1 from the quantity of each product, only do it for  the products that were ordered (those in \"customer_orders\")."
   ]
  },
  {
   "cell_type": "code",
   "execution_count": 2,
   "id": "475854a8-182b-4f27-b0c5-89106cfab463",
   "metadata": {},
   "outputs": [],
   "source": [
    "# Step 1: Define the products list\n",
    "products = [\"t-shirt\", \"mug\", \"hat\", \"book\", \"keychain\"]"
   ]
  },
  {
   "cell_type": "code",
   "execution_count": 3,
   "id": "6e7a19c9-04c4-4ec7-bccb-caa36725626c",
   "metadata": {},
   "outputs": [],
   "source": [
    "# Step 2: Create an empty dictionary for inventory\n",
    "inventory = {}"
   ]
  },
  {
   "cell_type": "code",
   "execution_count": 4,
   "id": "dfcb328c-f635-4612-8a74-17fcddaf418b",
   "metadata": {},
   "outputs": [
    {
     "name": "stdout",
     "output_type": "stream",
     "text": [
      "Enter the quantity of each product in the inventory:\n"
     ]
    },
    {
     "name": "stdin",
     "output_type": "stream",
     "text": [
      "Quantity of t-shirt:  10\n",
      "Quantity of mug:  15\n",
      "Quantity of hat:  20\n",
      "Quantity of book:  25\n",
      "Quantity of keychain:  30\n"
     ]
    }
   ],
   "source": [
    "# Step 3: Input the quantity of each product in the inventory\n",
    "print(\"Enter the quantity of each product in the inventory:\")\n",
    "for product in products:\n",
    "    quantity = int(input(f\"Quantity of {product}: \"))\n",
    "    inventory[product] = quantity"
   ]
  },
  {
   "cell_type": "code",
   "execution_count": 5,
   "id": "72caec48-957e-40be-b97e-b90c8e62d611",
   "metadata": {},
   "outputs": [],
   "source": [
    "# Step 4: Create an empty set for customer orders\n",
    "customer_orders = set()"
   ]
  },
  {
   "cell_type": "code",
   "execution_count": 8,
   "id": "47995e10-d0a7-4e4b-a6d0-905a19c02215",
   "metadata": {},
   "outputs": [
    {
     "name": "stdin",
     "output_type": "stream",
     "text": [
      "\n",
      "Enter the name of a product that a customer wants to order:  mug\n",
      "Do you want to add another product? (yes/no):  yes\n",
      "\n",
      "Enter the name of a product that a customer wants to order:  book\n",
      "Do you want to add another product? (yes/no):  yes\n",
      "\n",
      "Enter the name of a product that a customer wants to order:  hat \n",
      "Do you want to add another product? (yes/no):  no\n"
     ]
    }
   ],
   "source": [
    "# Step 5: Prompt the user to enter the name of a product that a customer wants to order\n",
    "while True:\n",
    "    product = input(\"\\nEnter the name of a product that a customer wants to order: \")\n",
    "    customer_orders.add(product)\n",
    "    choice = input(\"Do you want to add another product? (yes/no): \")\n",
    "    if choice.lower() != \"yes\":\n",
    "        break"
   ]
  },
  {
   "cell_type": "code",
   "execution_count": 9,
   "id": "8002d875-d733-4783-badc-fb0284f1b82d",
   "metadata": {},
   "outputs": [
    {
     "name": "stdout",
     "output_type": "stream",
     "text": [
      "\n",
      "Products in customer orders:\n",
      "hat \n",
      "mug\n",
      "book\n",
      "yes\n",
      "hat\n"
     ]
    }
   ],
   "source": [
    "# Step 6: Print the products in the customer_orders set\n",
    "print(\"\\nProducts in customer orders:\")\n",
    "for product in customer_orders:\n",
    "    print(product)"
   ]
  },
  {
   "cell_type": "code",
   "execution_count": 10,
   "id": "6e8db9b3-6383-4270-9616-5e66e2a3f47d",
   "metadata": {},
   "outputs": [],
   "source": [
    "# Step 7: Calculate order statistics\n",
    "total_products_ordered = len(customer_orders)\n",
    "percentage_ordered = (total_products_ordered / len(products)) * 100\n",
    "order_status = (total_products_ordered, percentage_ordered)"
   ]
  },
  {
   "cell_type": "code",
   "execution_count": 11,
   "id": "11065456-a1cb-4714-b0d3-54d282a77ca5",
   "metadata": {},
   "outputs": [
    {
     "name": "stdout",
     "output_type": "stream",
     "text": [
      "\n",
      "Order Statistics:\n",
      "Total Products Ordered: 5\n",
      "Percentage of Products Ordered: 100.00%\n"
     ]
    }
   ],
   "source": [
    "# Step 8 Print order statistics\n",
    "print(\"\\nOrder Statistics:\")\n",
    "print(f\"Total Products Ordered: {order_status[0]}\")\n",
    "print(f\"Percentage of Products Ordered: {order_status[1]:.2f}%\")"
   ]
  },
  {
   "cell_type": "code",
   "execution_count": 14,
   "id": "9a1fcb20-390a-45bb-9864-2404ce4b782c",
   "metadata": {},
   "outputs": [
    {
     "name": "stdout",
     "output_type": "stream",
     "text": [
      "\n",
      "Updated Inventory:\n"
     ]
    },
    {
     "ename": "KeyError",
     "evalue": "'hat '",
     "output_type": "error",
     "traceback": [
      "\u001b[1;31m---------------------------------------------------------------------------\u001b[0m",
      "\u001b[1;31mKeyError\u001b[0m                                  Traceback (most recent call last)",
      "Cell \u001b[1;32mIn[14], line 4\u001b[0m\n\u001b[0;32m      2\u001b[0m \u001b[38;5;28mprint\u001b[39m(\u001b[38;5;124m\"\u001b[39m\u001b[38;5;130;01m\\n\u001b[39;00m\u001b[38;5;124mUpdated Inventory:\u001b[39m\u001b[38;5;124m\"\u001b[39m)\n\u001b[0;32m      3\u001b[0m \u001b[38;5;28;01mfor\u001b[39;00m product \u001b[38;5;129;01min\u001b[39;00m customer_orders:\n\u001b[1;32m----> 4\u001b[0m     inventory[product] \u001b[38;5;241m-\u001b[39m\u001b[38;5;241m=\u001b[39m \u001b[38;5;241m1\u001b[39m\n\u001b[0;32m      5\u001b[0m     \u001b[38;5;28mprint\u001b[39m(\u001b[38;5;124mf\u001b[39m\u001b[38;5;124m\"\u001b[39m\u001b[38;5;132;01m{\u001b[39;00mproduct\u001b[38;5;132;01m}\u001b[39;00m\u001b[38;5;124m: \u001b[39m\u001b[38;5;132;01m{\u001b[39;00minventory[product]\u001b[38;5;132;01m}\u001b[39;00m\u001b[38;5;124m\"\u001b[39m)\n",
      "\u001b[1;31mKeyError\u001b[0m: 'hat '"
     ]
    }
   ],
   "source": [
    "# Step 9: Update the inventory for the products that were ordered\n",
    "print(\"\\nUpdated Inventory:\")\n",
    "for product in customer_orders:\n",
    "    inventory[product] -= 1\n",
    "    print(f\"{product}: {inventory[product]}\")"
   ]
  },
  {
   "cell_type": "code",
   "execution_count": null,
   "id": "dd3298b3-21aa-4c12-a487-f6f9eadfe121",
   "metadata": {},
   "outputs": [],
   "source": []
  }
 ],
 "metadata": {
  "kernelspec": {
   "display_name": "Python 3 (ipykernel)",
   "language": "python",
   "name": "python3"
  },
  "language_info": {
   "codemirror_mode": {
    "name": "ipython",
    "version": 3
   },
   "file_extension": ".py",
   "mimetype": "text/x-python",
   "name": "python",
   "nbconvert_exporter": "python",
   "pygments_lexer": "ipython3",
   "version": "3.11.7"
  }
 },
 "nbformat": 4,
 "nbformat_minor": 5
}
